{
 "cells": [
  {
   "cell_type": "code",
   "id": "71047af8b6d60f6e",
   "metadata": {
    "ExecuteTime": {
     "end_time": "2025-06-14T03:45:53.892906Z",
     "start_time": "2025-06-14T03:45:34.544065Z"
    }
   },
   "source": [
    "%%time\n",
    "import tifffile\n",
    "import os\n",
    "import clearex\n",
    "import ants"
   ],
   "outputs": [
    {
     "name": "stdout",
     "output_type": "stream",
     "text": [
      "CPU times: user 15 s, sys: 2.27 s, total: 17.2 s\n",
      "Wall time: 19.3 s\n"
     ]
    }
   ],
   "execution_count": 1
  },
  {
   "metadata": {
    "ExecuteTime": {
     "end_time": "2025-06-14T03:48:58.098877Z",
     "start_time": "2025-06-14T03:48:58.016719Z"
    }
   },
   "cell_type": "code",
   "source": [
    "%%time\n",
    "fixed = tifffile.imread(\"/archive/bioinformatics/Danuser_lab/Dean/dean/2025-06-12-registration/moving/registration/fixed/1_CH02_000000.tif\")\n",
    "moving = tifffile.imread(\"/archive/bioinformatics/Danuser_lab/Dean/dean/2025-06-12-registration/moving/registration/linear/1_CH02_000000.tif\")\n",
    "transform_list = [\"/archive/bioinformatics/Danuser_lab/Dean/dean/2025-06-12-registration/moving/registration/nonlinear/movingToFixed1Warp.nii.gz\"]\n"
   ],
   "id": "ac32c4287ffa1a7d",
   "outputs": [
    {
     "name": "stdout",
     "output_type": "stream",
     "text": [
      "CPU times: user 7.83 ms, sys: 47.2 ms, total: 55.1 ms\n",
      "Wall time: 75.7 ms\n"
     ]
    }
   ],
   "execution_count": 5
  },
  {
   "metadata": {
    "ExecuteTime": {
     "end_time": "2025-06-14T03:49:07.733618Z",
     "start_time": "2025-06-14T03:49:07.483967Z"
    }
   },
   "cell_type": "code",
   "source": [
    "%%time\n",
    "fixed = ants.from_numpy(fixed)\n",
    "moving = ants.from_numpy(moving)\n"
   ],
   "id": "53de2d6a3a78ddb5",
   "outputs": [
    {
     "name": "stdout",
     "output_type": "stream",
     "text": [
      "CPU times: user 112 ms, sys: 135 ms, total: 246 ms\n",
      "Wall time: 242 ms\n"
     ]
    }
   ],
   "execution_count": 6
  },
  {
   "metadata": {
    "ExecuteTime": {
     "end_time": "2025-06-14T03:49:17.455056Z",
     "start_time": "2025-06-14T03:49:14.952889Z"
    }
   },
   "cell_type": "code",
   "source": [
    "%%time\n",
    "# Apply the transforms\n",
    "warped_image = ants.apply_transforms(\n",
    "    fixed=fixed,\n",
    "    moving=moving,\n",
    "    transformlist=transform_list,\n",
    "    interpolator='linear'\n",
    ")"
   ],
   "id": "f32f3a8bf23cb432",
   "outputs": [
    {
     "name": "stdout",
     "output_type": "stream",
     "text": [
      "CPU times: user 3.55 s, sys: 2.54 s, total: 6.09 s\n",
      "Wall time: 2.5 s\n"
     ]
    }
   ],
   "execution_count": 7
  },
  {
   "metadata": {
    "ExecuteTime": {
     "end_time": "2025-06-14T03:49:20.875300Z",
     "start_time": "2025-06-14T03:49:20.862730Z"
    }
   },
   "cell_type": "code",
   "source": [
    "%%time\n",
    "warped_image"
   ],
   "id": "a88db5cc6172b94b",
   "outputs": [
    {
     "name": "stdout",
     "output_type": "stream",
     "text": [
      "CPU times: user 30 μs, sys: 0 ns, total: 30 μs\n",
      "Wall time: 60.3 μs\n"
     ]
    },
    {
     "data": {
      "text/plain": [
       "ANTsImage (RAI)\n",
       "\t Pixel Type : unsigned int (uint32)\n",
       "\t Components : 1\n",
       "\t Dimensions : (193, 127, 388)\n",
       "\t Spacing    : (1.0, 1.0, 1.0)\n",
       "\t Origin     : (0.0, 0.0, 0.0)\n",
       "\t Direction  : [1. 0. 0. 0. 1. 0. 0. 0. 1.]"
      ]
     },
     "execution_count": 8,
     "metadata": {},
     "output_type": "execute_result"
    }
   ],
   "execution_count": 8
  },
  {
   "metadata": {
    "collapsed": true
   },
   "cell_type": "code",
   "outputs": [],
   "execution_count": null,
   "source": [
    "\n",
    "\n",
    "\n",
    "transformed_image = transformed_image.numpy().astype(np.uint16)\n",
    "\n",
    "# Export the transformed and cropped image\n",
    "clearex.registration.common.export_tiff(\n",
    "    image=transformed_image,\n",
    "    data_path=os.path.join(self.nonlinear_path, file))\n"
   ],
   "id": "initial_id"
  }
 ],
 "metadata": {
  "kernelspec": {
   "display_name": "Python 3",
   "language": "python",
   "name": "python3"
  },
  "language_info": {
   "codemirror_mode": {
    "name": "ipython",
    "version": 2
   },
   "file_extension": ".py",
   "mimetype": "text/x-python",
   "name": "python",
   "nbconvert_exporter": "python",
   "pygments_lexer": "ipython2",
   "version": "2.7.6"
  }
 },
 "nbformat": 4,
 "nbformat_minor": 5
}
