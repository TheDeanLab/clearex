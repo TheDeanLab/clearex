{
 "cells": [
  {
   "metadata": {},
   "cell_type": "markdown",
   "source": "# Apply Warp Transform",
   "id": "354994e858439deb"
  },
  {
   "metadata": {},
   "cell_type": "markdown",
   "source": "## Library Imports",
   "id": "6535c12c40633bb7"
  },
  {
   "metadata": {
    "ExecuteTime": {
     "end_time": "2025-10-10T08:42:27.337261Z",
     "start_time": "2025-10-10T08:42:22.276948Z"
    }
   },
   "cell_type": "code",
   "source": [
    "%%time\n",
    "# Standard Library Imports\n",
    "import requests\n",
    "import zipfile\n",
    "import os\n",
    "\n",
    "# Third Party Imports\n",
    "import tifffile\n",
    "import ants\n",
    "import numpy as np\n",
    "\n",
    "# Local Imports\n",
    "import clearex\n"
   ],
   "id": "767f1f1d5d651f6",
   "outputs": [
    {
     "name": "stdout",
     "output_type": "stream",
     "text": [
      "CPU times: user 1.78 s, sys: 551 ms, total: 2.33 s\n",
      "Wall time: 5.05 s\n"
     ]
    }
   ],
   "execution_count": 1
  },
  {
   "metadata": {},
   "cell_type": "markdown",
   "source": "## Download Example Data",
   "id": "27074d948c182bb1"
  },
  {
   "metadata": {
    "ExecuteTime": {
     "end_time": "2025-10-10T08:43:02.087041Z",
     "start_time": "2025-10-10T08:42:29.827355Z"
    }
   },
   "cell_type": "code",
   "source": [
    "%%time\n",
    "url = \"https://cloud.biohpc.swmed.edu/index.php/s/7y7QHszBiJtqgQE/download\"\n",
    "output_path = \"downloaded_data.zip\"\n",
    "\n",
    "with requests.get(url, stream=True) as r:\n",
    "    r.raise_for_status()\n",
    "    with open(output_path, 'wb') as f:\n",
    "        for chunk in r.iter_content(chunk_size=8192):\n",
    "            if chunk:\n",
    "                f.write(chunk)\n",
    "print(f\"Downloaded to {output_path}\")\n",
    "\n",
    "with zipfile.ZipFile(output_path, 'r') as zip_ref:\n",
    "    zip_ref.extractall(\"downloaded_data\")\n",
    "print(f\"Extracted {output_path} directory.\")\n",
    "\n",
    "os.remove(output_path)"
   ],
   "id": "60ba75b6989e7d37",
   "outputs": [
    {
     "name": "stdout",
     "output_type": "stream",
     "text": [
      "Downloaded to downloaded_data.zip\n",
      "Extracted downloaded_data.zip directory.\n",
      "CPU times: user 780 ms, sys: 2.3 s, total: 3.08 s\n",
      "Wall time: 32.3 s\n"
     ]
    }
   ],
   "execution_count": 2
  },
  {
   "metadata": {},
   "cell_type": "markdown",
   "source": "## Specify Paths",
   "id": "b62c6f1605f78a22"
  },
  {
   "metadata": {
    "ExecuteTime": {
     "end_time": "2025-10-10T08:43:27.074945Z",
     "start_time": "2025-10-10T08:43:27.071363Z"
    }
   },
   "cell_type": "code",
   "source": [
    "%%time\n",
    "\n",
    "output_path = output_path.split(\".\")[0]\n",
    "\n",
    "fixed_path = os.path.join(\n",
    "    output_path,\n",
    "    \"clearex\",\n",
    "    \"cropped_fixed.tif\")\n",
    "\n",
    "moving_path = os.path.join(\n",
    "    output_path,\n",
    "    \"clearex\",\n",
    "    \"cropped_moving.tif\")\n",
    "\n",
    "transform_path = os.path.join(\n",
    "    output_path,\n",
    "    \"clearex\",\n",
    "    \"GenericAffine.mat\")\n",
    "\n",
    "transform_list = [transform_path]\n",
    "\n",
    "registered_path = os.path.join(\n",
    "    output_path,\n",
    "    \"clearex\",\n",
    "    \"registered.tif\")"
   ],
   "id": "a1888f6e9a21d4cd",
   "outputs": [
    {
     "name": "stdout",
     "output_type": "stream",
     "text": [
      "CPU times: user 10 μs, sys: 0 ns, total: 10 μs\n",
      "Wall time: 13.1 μs\n"
     ]
    }
   ],
   "execution_count": 3
  },
  {
   "metadata": {},
   "cell_type": "markdown",
   "source": "## Load Images and Transform",
   "id": "a439d4add338a38"
  },
  {
   "metadata": {
    "ExecuteTime": {
     "end_time": "2025-10-10T08:43:29.538769Z",
     "start_time": "2025-10-10T08:43:29.284842Z"
    }
   },
   "cell_type": "code",
   "source": [
    "%%time\n",
    "fixed = tifffile.imread(fixed_path)\n",
    "fixed = ants.from_numpy(fixed)\n",
    "\n",
    "moving = tifffile.imread(moving_path)\n",
    "min_value = moving.min()\n",
    "max_value = moving.max()\n",
    "moving = ants.from_numpy(moving)\n"
   ],
   "id": "53de2d6a3a78ddb5",
   "outputs": [
    {
     "name": "stdout",
     "output_type": "stream",
     "text": [
      "CPU times: user 157 ms, sys: 66.9 ms, total: 224 ms\n",
      "Wall time: 251 ms\n"
     ]
    }
   ],
   "execution_count": 4
  },
  {
   "metadata": {},
   "cell_type": "markdown",
   "source": "## Apply Transform",
   "id": "4cead607f164ff0f"
  },
  {
   "metadata": {
    "ExecuteTime": {
     "end_time": "2025-10-10T08:43:31.083438Z",
     "start_time": "2025-10-10T08:43:30.693993Z"
    }
   },
   "cell_type": "code",
   "source": [
    "%%time\n",
    "warped_image = ants.apply_transforms(\n",
    "    fixed=fixed,\n",
    "    moving=moving,\n",
    "    transformlist=transform_list,\n",
    "    interpolator='linear'\n",
    ")"
   ],
   "id": "f32f3a8bf23cb432",
   "outputs": [
    {
     "name": "stdout",
     "output_type": "stream",
     "text": [
      "CPU times: user 473 ms, sys: 1.16 s, total: 1.64 s\n",
      "Wall time: 387 ms\n"
     ]
    }
   ],
   "execution_count": 5
  },
  {
   "metadata": {},
   "cell_type": "markdown",
   "source": "## Get Information About the Transformed Image",
   "id": "4a0eb6fd011a3868"
  },
  {
   "metadata": {
    "ExecuteTime": {
     "end_time": "2025-10-10T08:43:32.357721Z",
     "start_time": "2025-10-10T08:43:32.354312Z"
    }
   },
   "cell_type": "code",
   "source": [
    "%%time\n",
    "warped_image"
   ],
   "id": "97f651720fb8f5f2",
   "outputs": [
    {
     "name": "stdout",
     "output_type": "stream",
     "text": [
      "CPU times: user 2 μs, sys: 0 ns, total: 2 μs\n",
      "Wall time: 2.86 μs\n"
     ]
    },
    {
     "data": {
      "text/plain": [
       "ANTsImage (RAI)\n",
       "\t Pixel Type : unsigned int (uint32)\n",
       "\t Components : 1\n",
       "\t Dimensions : (925, 163, 306)\n",
       "\t Spacing    : (1.0, 1.0, 1.0)\n",
       "\t Origin     : (0.0, 0.0, 0.0)\n",
       "\t Direction  : [1. 0. 0. 0. 1. 0. 0. 0. 1.]"
      ]
     },
     "execution_count": 6,
     "metadata": {},
     "output_type": "execute_result"
    }
   ],
   "execution_count": 6
  },
  {
   "metadata": {},
   "cell_type": "markdown",
   "source": "## Export the Image",
   "id": "e57765e5f84cdbca"
  },
  {
   "metadata": {},
   "cell_type": "code",
   "source": [
    "warped_image = warped_image.numpy().astype(np.uint16)\n",
    "\n",
    "# Export the transformed and cropped image\n",
    "clearex.registration.common.export_tiff(\n",
    "    image=warped_image,\n",
    "    min_value=min_value,\n",
    "    max_value=max_value,\n",
    "    data_path=registered_path)"
   ],
   "id": "initial_id",
   "execution_count": null,
   "outputs": []
  },
  {
   "metadata": {
    "ExecuteTime": {
     "end_time": "2025-10-10T08:45:39.015685Z",
     "start_time": "2025-10-10T08:45:39.013794Z"
    }
   },
   "cell_type": "code",
   "source": "print(f\"Data exported to {registered_path}\")",
   "id": "5f18451fa63a310b",
   "outputs": [
    {
     "name": "stdout",
     "output_type": "stream",
     "text": [
      "Data exported to downloaded_data/clearex/registered.tif\n"
     ]
    }
   ],
   "execution_count": 9
  },
  {
   "metadata": {},
   "cell_type": "code",
   "outputs": [],
   "execution_count": null,
   "source": "",
   "id": "d577859138280092"
  }
 ],
 "metadata": {
  "kernelspec": {
   "display_name": "Python 3",
   "language": "python",
   "name": "python3"
  },
  "language_info": {
   "codemirror_mode": {
    "name": "ipython",
    "version": 2
   },
   "file_extension": ".py",
   "mimetype": "text/x-python",
   "name": "python",
   "nbconvert_exporter": "python",
   "pygments_lexer": "ipython2",
   "version": "2.7.6"
  }
 },
 "nbformat": 4,
 "nbformat_minor": 5
}
